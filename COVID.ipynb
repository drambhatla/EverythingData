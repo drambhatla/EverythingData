{
 "cells": [
  {
   "cell_type": "code",
   "execution_count": 34,
   "metadata": {},
   "outputs": [
    {
     "name": "stdout",
     "output_type": "stream",
     "text": [
      "3/11/20\n"
     ]
    }
   ],
   "source": [
    "# importing all the libraries\n",
    "import pandas as pd\n",
    "import numpy as np\n",
    "import datetime as dt\n",
    "from datetime import timedelta\n",
    "import matplotlib.pyplot as plt\n",
    "import seaborn as sns\n",
    "import geopandas as gpd\n",
    "from shapely.geometry import Point\n",
    "import descartes\n",
    "# Setting the date as yesterday since current day's data is not available\n",
    "date = dt.date.today() - dt.timedelta(days=6)\n",
    "today = date.strftime(\"%-m/%d/%y\")\n",
    "print(today)"
   ]
  },
  {
   "cell_type": "code",
   "execution_count": 27,
   "metadata": {},
   "outputs": [],
   "source": [
    "confirmed = pd.read_csv(\"/Users/dannyrambhatla/Documents/GitHub/EverythingData/COVID-19-master/csse_covid_19_data/csse_covid_19_time_series/covid-Confirmed.csv\", index_col =0)"
   ]
  },
  {
   "cell_type": "code",
   "execution_count": 28,
   "metadata": {},
   "outputs": [
    {
     "data": {
      "text/html": [
       "<div>\n",
       "<style scoped>\n",
       "    .dataframe tbody tr th:only-of-type {\n",
       "        vertical-align: middle;\n",
       "    }\n",
       "\n",
       "    .dataframe tbody tr th {\n",
       "        vertical-align: top;\n",
       "    }\n",
       "\n",
       "    .dataframe thead th {\n",
       "        text-align: right;\n",
       "    }\n",
       "</style>\n",
       "<table border=\"1\" class=\"dataframe\">\n",
       "  <thead>\n",
       "    <tr style=\"text-align: right;\">\n",
       "      <th></th>\n",
       "      <th>Country/Region</th>\n",
       "      <th>Lat</th>\n",
       "      <th>Long</th>\n",
       "      <th>1/22/20</th>\n",
       "      <th>1/23/20</th>\n",
       "      <th>1/24/20</th>\n",
       "      <th>1/25/20</th>\n",
       "      <th>1/26/20</th>\n",
       "      <th>1/27/20</th>\n",
       "      <th>1/28/20</th>\n",
       "      <th>...</th>\n",
       "      <th>3/2/20</th>\n",
       "      <th>3/3/20</th>\n",
       "      <th>3/4/20</th>\n",
       "      <th>3/5/20</th>\n",
       "      <th>3/6/20</th>\n",
       "      <th>3/7/20</th>\n",
       "      <th>3/8/20</th>\n",
       "      <th>3/9/20</th>\n",
       "      <th>3/10/20</th>\n",
       "      <th>3/11/20</th>\n",
       "    </tr>\n",
       "    <tr>\n",
       "      <th>Province/State</th>\n",
       "      <th></th>\n",
       "      <th></th>\n",
       "      <th></th>\n",
       "      <th></th>\n",
       "      <th></th>\n",
       "      <th></th>\n",
       "      <th></th>\n",
       "      <th></th>\n",
       "      <th></th>\n",
       "      <th></th>\n",
       "      <th></th>\n",
       "      <th></th>\n",
       "      <th></th>\n",
       "      <th></th>\n",
       "      <th></th>\n",
       "      <th></th>\n",
       "      <th></th>\n",
       "      <th></th>\n",
       "      <th></th>\n",
       "      <th></th>\n",
       "      <th></th>\n",
       "    </tr>\n",
       "  </thead>\n",
       "  <tbody>\n",
       "    <tr>\n",
       "      <td>NaN</td>\n",
       "      <td>Thailand</td>\n",
       "      <td>15.0000</td>\n",
       "      <td>101.0000</td>\n",
       "      <td>2</td>\n",
       "      <td>3</td>\n",
       "      <td>5</td>\n",
       "      <td>7</td>\n",
       "      <td>8</td>\n",
       "      <td>8</td>\n",
       "      <td>14</td>\n",
       "      <td>...</td>\n",
       "      <td>43</td>\n",
       "      <td>43</td>\n",
       "      <td>43</td>\n",
       "      <td>47</td>\n",
       "      <td>48</td>\n",
       "      <td>50</td>\n",
       "      <td>50</td>\n",
       "      <td>50</td>\n",
       "      <td>53</td>\n",
       "      <td>59</td>\n",
       "    </tr>\n",
       "    <tr>\n",
       "      <td>NaN</td>\n",
       "      <td>Japan</td>\n",
       "      <td>36.0000</td>\n",
       "      <td>138.0000</td>\n",
       "      <td>2</td>\n",
       "      <td>1</td>\n",
       "      <td>2</td>\n",
       "      <td>2</td>\n",
       "      <td>4</td>\n",
       "      <td>4</td>\n",
       "      <td>7</td>\n",
       "      <td>...</td>\n",
       "      <td>274</td>\n",
       "      <td>293</td>\n",
       "      <td>331</td>\n",
       "      <td>360</td>\n",
       "      <td>420</td>\n",
       "      <td>461</td>\n",
       "      <td>502</td>\n",
       "      <td>511</td>\n",
       "      <td>581</td>\n",
       "      <td>639</td>\n",
       "    </tr>\n",
       "    <tr>\n",
       "      <td>NaN</td>\n",
       "      <td>Singapore</td>\n",
       "      <td>1.2833</td>\n",
       "      <td>103.8333</td>\n",
       "      <td>0</td>\n",
       "      <td>1</td>\n",
       "      <td>3</td>\n",
       "      <td>3</td>\n",
       "      <td>4</td>\n",
       "      <td>5</td>\n",
       "      <td>7</td>\n",
       "      <td>...</td>\n",
       "      <td>108</td>\n",
       "      <td>110</td>\n",
       "      <td>110</td>\n",
       "      <td>117</td>\n",
       "      <td>130</td>\n",
       "      <td>138</td>\n",
       "      <td>150</td>\n",
       "      <td>150</td>\n",
       "      <td>160</td>\n",
       "      <td>178</td>\n",
       "    </tr>\n",
       "    <tr>\n",
       "      <td>NaN</td>\n",
       "      <td>Nepal</td>\n",
       "      <td>28.1667</td>\n",
       "      <td>84.2500</td>\n",
       "      <td>0</td>\n",
       "      <td>0</td>\n",
       "      <td>0</td>\n",
       "      <td>1</td>\n",
       "      <td>1</td>\n",
       "      <td>1</td>\n",
       "      <td>1</td>\n",
       "      <td>...</td>\n",
       "      <td>1</td>\n",
       "      <td>1</td>\n",
       "      <td>1</td>\n",
       "      <td>1</td>\n",
       "      <td>1</td>\n",
       "      <td>1</td>\n",
       "      <td>1</td>\n",
       "      <td>1</td>\n",
       "      <td>1</td>\n",
       "      <td>1</td>\n",
       "    </tr>\n",
       "    <tr>\n",
       "      <td>NaN</td>\n",
       "      <td>Malaysia</td>\n",
       "      <td>2.5000</td>\n",
       "      <td>112.5000</td>\n",
       "      <td>0</td>\n",
       "      <td>0</td>\n",
       "      <td>0</td>\n",
       "      <td>3</td>\n",
       "      <td>4</td>\n",
       "      <td>4</td>\n",
       "      <td>4</td>\n",
       "      <td>...</td>\n",
       "      <td>29</td>\n",
       "      <td>36</td>\n",
       "      <td>50</td>\n",
       "      <td>50</td>\n",
       "      <td>83</td>\n",
       "      <td>93</td>\n",
       "      <td>99</td>\n",
       "      <td>117</td>\n",
       "      <td>129</td>\n",
       "      <td>149</td>\n",
       "    </tr>\n",
       "  </tbody>\n",
       "</table>\n",
       "<p>5 rows × 53 columns</p>\n",
       "</div>"
      ],
      "text/plain": [
       "               Country/Region      Lat      Long  1/22/20  1/23/20  1/24/20  \\\n",
       "Province/State                                                                \n",
       "NaN                  Thailand  15.0000  101.0000        2        3        5   \n",
       "NaN                     Japan  36.0000  138.0000        2        1        2   \n",
       "NaN                 Singapore   1.2833  103.8333        0        1        3   \n",
       "NaN                     Nepal  28.1667   84.2500        0        0        0   \n",
       "NaN                  Malaysia   2.5000  112.5000        0        0        0   \n",
       "\n",
       "                1/25/20  1/26/20  1/27/20  1/28/20  ...  3/2/20  3/3/20  \\\n",
       "Province/State                                      ...                   \n",
       "NaN                   7        8        8       14  ...      43      43   \n",
       "NaN                   2        4        4        7  ...     274     293   \n",
       "NaN                   3        4        5        7  ...     108     110   \n",
       "NaN                   1        1        1        1  ...       1       1   \n",
       "NaN                   3        4        4        4  ...      29      36   \n",
       "\n",
       "                3/4/20  3/5/20  3/6/20  3/7/20  3/8/20  3/9/20  3/10/20  \\\n",
       "Province/State                                                            \n",
       "NaN                 43      47      48      50      50      50       53   \n",
       "NaN                331     360     420     461     502     511      581   \n",
       "NaN                110     117     130     138     150     150      160   \n",
       "NaN                  1       1       1       1       1       1        1   \n",
       "NaN                 50      50      83      93      99     117      129   \n",
       "\n",
       "                3/11/20  \n",
       "Province/State           \n",
       "NaN                  59  \n",
       "NaN                 639  \n",
       "NaN                 178  \n",
       "NaN                   1  \n",
       "NaN                 149  \n",
       "\n",
       "[5 rows x 53 columns]"
      ]
     },
     "execution_count": 28,
     "metadata": {},
     "output_type": "execute_result"
    }
   ],
   "source": [
    "confirmed.head()"
   ]
  },
  {
   "cell_type": "code",
   "execution_count": 4,
   "metadata": {},
   "outputs": [],
   "source": [
    "Deaths = pd.read_csv(\"/Users/dannyrambhatla/Documents/GitHub/EverythingData/COVID-19-master/csse_covid_19_data/csse_covid_19_time_series/covid-Deaths.csv\",index_col=0)"
   ]
  },
  {
   "cell_type": "code",
   "execution_count": 5,
   "metadata": {},
   "outputs": [],
   "source": [
    "Recovered = pd.read_csv(\"/Users/dannyrambhatla/Documents/GitHub/EverythingData/COVID-19-master/csse_covid_19_data/csse_covid_19_time_series/covid-Recovered.csv\", index_col=0)"
   ]
  },
  {
   "cell_type": "code",
   "execution_count": 30,
   "metadata": {
    "scrolled": true
   },
   "outputs": [
    {
     "name": "stdout",
     "output_type": "stream",
     "text": [
      "Total Confirmed Cases are 125865\n",
      "Confirmed Cases by Country are \n",
      "      Country/Region  Cases\n",
      "24             China  80921\n",
      "54             Italy  12462\n",
      "50              Iran   9000\n",
      "58      Korea, South   7755\n",
      "39            France   2284\n",
      "..               ...    ...\n",
      "55           Jamaica      1\n",
      "44          Holy See      1\n",
      "71            Monaco      1\n",
      "26  Congo (Kinshasa)      1\n",
      "57            Jordan      1\n",
      "\n",
      "[114 rows x 2 columns]\n"
     ]
    }
   ],
   "source": [
    "Confirmed_Cases_By_Country = confirmed.groupby('Country/Region')[today].sum().fillna(0).reset_index(name='Cases').sort_values(by='Cases', ascending=False)\n",
    "Total_Confirmed_Cases = Confirmed_Cases_By_Country.sum()\n",
    "print('Total Confirmed Cases are '+ str(Total_Confirmed_Cases.Cases))\n",
    "print('Confirmed Cases by Country are ')\n",
    "print(Confirmed_Cases_By_Country)"
   ]
  },
  {
   "cell_type": "code",
   "execution_count": 33,
   "metadata": {},
   "outputs": [
    {
     "name": "stdout",
     "output_type": "stream",
     "text": [
      "[{\"Country\\/Region\":\"China\",\"Cases\":80921},{\"Country\\/Region\":\"Italy\",\"Cases\":12462},{\"Country\\/Region\":\"Iran\",\"Cases\":9000},{\"Country\\/Region\":\"Korea, South\",\"Cases\":7755},{\"Country\\/Region\":\"France\",\"Cases\":2284},{\"Country\\/Region\":\"Spain\",\"Cases\":2277},{\"Country\\/Region\":\"Germany\",\"Cases\":1908},{\"Country\\/Region\":\"US\",\"Cases\":1281},{\"Country\\/Region\":\"Cruise Ship\",\"Cases\":696},{\"Country\\/Region\":\"Switzerland\",\"Cases\":652},{\"Country\\/Region\":\"Japan\",\"Cases\":639},{\"Country\\/Region\":\"Norway\",\"Cases\":598},{\"Country\\/Region\":\"Netherlands\",\"Cases\":503},{\"Country\\/Region\":\"Sweden\",\"Cases\":500},{\"Country\\/Region\":\"United Kingdom\",\"Cases\":459},{\"Country\\/Region\":\"Denmark\",\"Cases\":444},{\"Country\\/Region\":\"Belgium\",\"Cases\":314},{\"Country\\/Region\":\"Qatar\",\"Cases\":262},{\"Country\\/Region\":\"Austria\",\"Cases\":246},{\"Country\\/Region\":\"Bahrain\",\"Cases\":195},{\"Country\\/Region\":\"Singapore\",\"Cases\":178},{\"Country\\/Region\":\"Malaysia\",\"Cases\":149},{\"Country\\/Region\":\"Australia\",\"Cases\":128},{\"Country\\/Region\":\"Israel\",\"Cases\":109},{\"Country\\/Region\":\"Canada\",\"Cases\":108},{\"Country\\/Region\":\"Greece\",\"Cases\":99},{\"Country\\/Region\":\"Czechia\",\"Cases\":91},{\"Country\\/Region\":\"Iceland\",\"Cases\":85},{\"Country\\/Region\":\"United Arab Emirates\",\"Cases\":74},{\"Country\\/Region\":\"Kuwait\",\"Cases\":72},{\"Country\\/Region\":\"Iraq\",\"Cases\":71},{\"Country\\/Region\":\"San Marino\",\"Cases\":62},{\"Country\\/Region\":\"India\",\"Cases\":62},{\"Country\\/Region\":\"Lebanon\",\"Cases\":61},{\"Country\\/Region\":\"Egypt\",\"Cases\":60},{\"Country\\/Region\":\"Portugal\",\"Cases\":59},{\"Country\\/Region\":\"Thailand\",\"Cases\":59},{\"Country\\/Region\":\"Finland\",\"Cases\":59},{\"Country\\/Region\":\"Slovenia\",\"Cases\":57},{\"Country\\/Region\":\"Philippines\",\"Cases\":49},{\"Country\\/Region\":\"Taiwan*\",\"Cases\":48},{\"Country\\/Region\":\"Romania\",\"Cases\":45},{\"Country\\/Region\":\"Ireland\",\"Cases\":43},{\"Country\\/Region\":\"Vietnam\",\"Cases\":38},{\"Country\\/Region\":\"Brazil\",\"Cases\":38},{\"Country\\/Region\":\"Indonesia\",\"Cases\":34},{\"Country\\/Region\":\"Poland\",\"Cases\":31},{\"Country\\/Region\":\"Georgia\",\"Cases\":24},{\"Country\\/Region\":\"Chile\",\"Cases\":23},{\"Country\\/Region\":\"Saudi Arabia\",\"Cases\":21},{\"Country\\/Region\":\"Russia\",\"Cases\":20},{\"Country\\/Region\":\"Algeria\",\"Cases\":20},{\"Country\\/Region\":\"Pakistan\",\"Cases\":19},{\"Country\\/Region\":\"Croatia\",\"Cases\":19},{\"Country\\/Region\":\"Argentina\",\"Cases\":19},{\"Country\\/Region\":\"Oman\",\"Cases\":18},{\"Country\\/Region\":\"Ecuador\",\"Cases\":17},{\"Country\\/Region\":\"Estonia\",\"Cases\":16},{\"Country\\/Region\":\"Costa Rica\",\"Cases\":13},{\"Country\\/Region\":\"South Africa\",\"Cases\":13},{\"Country\\/Region\":\"Hungary\",\"Cases\":13},{\"Country\\/Region\":\"Albania\",\"Cases\":12},{\"Country\\/Region\":\"Serbia\",\"Cases\":12},{\"Country\\/Region\":\"Brunei\",\"Cases\":11},{\"Country\\/Region\":\"Peru\",\"Cases\":11},{\"Country\\/Region\":\"Azerbaijan\",\"Cases\":11},{\"Country\\/Region\":\"Latvia\",\"Cases\":10},{\"Country\\/Region\":\"Slovakia\",\"Cases\":10},{\"Country\\/Region\":\"Belarus\",\"Cases\":9},{\"Country\\/Region\":\"Colombia\",\"Cases\":9},{\"Country\\/Region\":\"Maldives\",\"Cases\":8},{\"Country\\/Region\":\"Panama\",\"Cases\":8},{\"Country\\/Region\":\"Mexico\",\"Cases\":8},{\"Country\\/Region\":\"Tunisia\",\"Cases\":7},{\"Country\\/Region\":\"North Macedonia\",\"Cases\":7},{\"Country\\/Region\":\"Afghanistan\",\"Cases\":7},{\"Country\\/Region\":\"Bosnia and Herzegovina\",\"Cases\":7},{\"Country\\/Region\":\"Bulgaria\",\"Cases\":7},{\"Country\\/Region\":\"Luxembourg\",\"Cases\":7},{\"Country\\/Region\":\"Malta\",\"Cases\":6},{\"Country\\/Region\":\"Cyprus\",\"Cases\":6},{\"Country\\/Region\":\"New Zealand\",\"Cases\":5},{\"Country\\/Region\":\"French Guiana\",\"Cases\":5},{\"Country\\/Region\":\"Dominican Republic\",\"Cases\":5},{\"Country\\/Region\":\"Paraguay\",\"Cases\":5},{\"Country\\/Region\":\"Morocco\",\"Cases\":5},{\"Country\\/Region\":\"Senegal\",\"Cases\":4},{\"Country\\/Region\":\"Martinique\",\"Cases\":3},{\"Country\\/Region\":\"Moldova\",\"Cases\":3},{\"Country\\/Region\":\"Lithuania\",\"Cases\":3},{\"Country\\/Region\":\"Bangladesh\",\"Cases\":3},{\"Country\\/Region\":\"Cambodia\",\"Cases\":3},{\"Country\\/Region\":\"Bolivia\",\"Cases\":2},{\"Country\\/Region\":\"Burkina Faso\",\"Cases\":2},{\"Country\\/Region\":\"Sri Lanka\",\"Cases\":2},{\"Country\\/Region\":\"Cameroon\",\"Cases\":2},{\"Country\\/Region\":\"Nigeria\",\"Cases\":2},{\"Country\\/Region\":\"Honduras\",\"Cases\":2},{\"Country\\/Region\":\"Mongolia\",\"Cases\":1},{\"Country\\/Region\":\"Togo\",\"Cases\":1},{\"Country\\/Region\":\"Andorra\",\"Cases\":1},{\"Country\\/Region\":\"Armenia\",\"Cases\":1},{\"Country\\/Region\":\"Ukraine\",\"Cases\":1},{\"Country\\/Region\":\"Liechtenstein\",\"Cases\":1},{\"Country\\/Region\":\"Turkey\",\"Cases\":1},{\"Country\\/Region\":\"Bhutan\",\"Cases\":1},{\"Country\\/Region\":\"Reunion\",\"Cases\":1},{\"Country\\/Region\":\"Cote d'Ivoire\",\"Cases\":1},{\"Country\\/Region\":\"Nepal\",\"Cases\":1},{\"Country\\/Region\":\"Jamaica\",\"Cases\":1},{\"Country\\/Region\":\"Holy See\",\"Cases\":1},{\"Country\\/Region\":\"Monaco\",\"Cases\":1},{\"Country\\/Region\":\"Congo (Kinshasa)\",\"Cases\":1},{\"Country\\/Region\":\"Jordan\",\"Cases\":1}]\n"
     ]
    }
   ],
   "source": [
    "Confirmed_Output = Confirmed_Cases_By_Country.to_json(orient='records')\n",
    "print(Confirmed_Output)"
   ]
  },
  {
   "cell_type": "code",
   "execution_count": null,
   "metadata": {},
   "outputs": [],
   "source": [
    "Deaths_By_Country = Deaths.groupby('Country/Region')[today].sum().fillna(0).reset_index(name='Deaths').sort_values(by='Deaths', ascending=False)\n",
    "Total_Deaths = Deaths_By_Country.sum()\n",
    "print('Total Deaths are '+ str(Total_Deaths.Deaths))\n",
    "print('Death Cases by Country are ')\n",
    "print(Deaths_By_Country)"
   ]
  },
  {
   "cell_type": "code",
   "execution_count": null,
   "metadata": {},
   "outputs": [],
   "source": [
    "Deaths_output = Deaths_by_Country.to_json(orient='records')"
   ]
  },
  {
   "cell_type": "code",
   "execution_count": null,
   "metadata": {},
   "outputs": [],
   "source": [
    "Recovered_By_Country = Recovered.groupby('Country/Region')[today].sum().fillna(0).reset_index(name='Cases').sort_values(by='Cases', ascending=False)\n",
    "Total_Recovered_Cases = Recovered_By_Country.sum()\n",
    "print('Total Recovered Cases are '+ str(Total_Recovered_Cases.Cases))\n",
    "print('Recovered Cases by Country are ')\n",
    "print(Recovered_By_Country)"
   ]
  },
  {
   "cell_type": "code",
   "execution_count": null,
   "metadata": {},
   "outputs": [],
   "source": [
    "Recovered_output = Recovered_By_Country.to_json(orient='records')\n",
    "print(Recovered_output)"
   ]
  },
  {
   "cell_type": "code",
   "execution_count": null,
   "metadata": {},
   "outputs": [],
   "source": [
    "Recoverytest = Recovered_By_Country.loc[(Recovered_By_Country.Cases!=0)]\n",
    "print(Recoverytest)\n"
   ]
  },
  {
   "cell_type": "code",
   "execution_count": null,
   "metadata": {},
   "outputs": [],
   "source": [
    "Cases = Recoverytest.Cases"
   ]
  },
  {
   "cell_type": "markdown",
   "metadata": {},
   "source": [
    "#### Initialize the matplotlib figure"
   ]
  },
  {
   "cell_type": "code",
   "execution_count": null,
   "metadata": {
    "scrolled": false
   },
   "outputs": [],
   "source": [
    "f, ax = plt.subplots(figsize=(10, 7))\n",
    "sns.set_color_codes(\"pastel\")\n",
    "sns.barplot(x=Cases, y= \"Country/Region\", data=Recoverytest)\n",
    "ax.set(xlabel = \"Total Recovered Cases\")"
   ]
  },
  {
   "cell_type": "code",
   "execution_count": 13,
   "metadata": {},
   "outputs": [
    {
     "name": "stdout",
     "output_type": "stream",
     "text": [
      "    Country/Region       Province/State      Lat      Long  Cases\n",
      "26           China                Hubei  30.9756  112.2707  49134\n",
      "18           China            Guangdong  23.3417  113.4244   1282\n",
      "24           China                Henan  33.8820  113.6140   1249\n",
      "45           China             Zhejiang  29.1832  120.0934   1195\n",
      "27           China                Hunan  27.6104  111.7088    995\n",
      "..             ...                  ...      ...       ...    ...\n",
      "132             US     Hillsborough, FL  27.9904  -82.3018      0\n",
      "133             US  Honolulu County, HI  21.3070 -157.8584      0\n",
      "134             US           Howard, IN  40.4483  -86.1345      0\n",
      "135             US    Hudson County, NJ  40.7453  -74.0535      0\n",
      "149             US          Johnson, IN  39.4638  -86.1345      0\n",
      "\n",
      "[298 rows x 5 columns]\n"
     ]
    }
   ],
   "source": [
    "local = Recovered.groupby(['Country/Region','Province/State','Lat','Long'])[today].sum().fillna(0).reset_index(name='Cases').sort_values(by='Cases', ascending=False)\n",
    "print(local)"
   ]
  },
  {
   "cell_type": "code",
   "execution_count": 18,
   "metadata": {},
   "outputs": [
    {
     "name": "stdout",
     "output_type": "stream",
     "text": [
      "26     China\n",
      "18     China\n",
      "24     China\n",
      "45     China\n",
      "27     China\n",
      "       ...  \n",
      "132       US\n",
      "133       US\n",
      "134       US\n",
      "135       US\n",
      "149       US\n",
      "Name: Country/Region, Length: 298, dtype: object\n"
     ]
    }
   ],
   "source": [
    "statecases = local.Cases\n",
    "latitude = local.Lat\n",
    "longitude = local.Long\n",
    "Country = local[\"Country/Region\"]\n",
    "State = local[\"Province/State\"]\n",
    "print(Country)\n"
   ]
  },
  {
   "cell_type": "markdown",
   "metadata": {},
   "source": [
    "- Filter dataframe by Lat and Long\n",
    "- Plot a line on that single row"
   ]
  },
  {
   "cell_type": "code",
   "execution_count": 51,
   "metadata": {},
   "outputs": [],
   "source": [
    "confirmed_new = confirmed[(confirmed[\"Country/Region\"] == 'US') & (confirmed[\"Lat\"] == 47.4009)]"
   ]
  },
  {
   "cell_type": "code",
   "execution_count": 52,
   "metadata": {},
   "outputs": [
    {
     "name": "stdout",
     "output_type": "stream",
     "text": [
      "               Country/Region      Lat      Long  1/22/20  1/23/20  1/24/20  \\\n",
      "Province/State                                                                \n",
      "Washington                 US  47.4009 -121.4905        0        0        0   \n",
      "\n",
      "                1/25/20  1/26/20  1/27/20  1/28/20  ...  3/2/20  3/3/20  \\\n",
      "Province/State                                      ...                   \n",
      "Washington            0        0        0        0  ...       0       0   \n",
      "\n",
      "                3/4/20  3/5/20  3/6/20  3/7/20  3/8/20  3/9/20  3/10/20  \\\n",
      "Province/State                                                            \n",
      "Washington           0       0       0       0       0       0      267   \n",
      "\n",
      "                3/11/20  \n",
      "Province/State           \n",
      "Washington          366  \n",
      "\n",
      "[1 rows x 53 columns]\n"
     ]
    }
   ],
   "source": [
    "print(confirmed_new)"
   ]
  },
  {
   "cell_type": "code",
   "execution_count": 92,
   "metadata": {},
   "outputs": [],
   "source": [
    "confirmed_latest = confirmed_new.melt(id_vars = ['Country/Region','Lat','Long'],var_name='Day',value_name='Cases')"
   ]
  },
  {
   "cell_type": "code",
   "execution_count": 86,
   "metadata": {},
   "outputs": [
    {
     "name": "stdout",
     "output_type": "stream",
     "text": [
      "   Country/Region      Lat      Long      Day  Cases\n",
      "0              US  47.4009 -121.4905  1/22/20      0\n",
      "1              US  47.4009 -121.4905  1/23/20      0\n",
      "2              US  47.4009 -121.4905  1/24/20      0\n",
      "3              US  47.4009 -121.4905  1/25/20      0\n",
      "4              US  47.4009 -121.4905  1/26/20      0\n",
      "5              US  47.4009 -121.4905  1/27/20      0\n",
      "6              US  47.4009 -121.4905  1/28/20      0\n",
      "7              US  47.4009 -121.4905  1/29/20      0\n",
      "8              US  47.4009 -121.4905  1/30/20      0\n",
      "9              US  47.4009 -121.4905  1/31/20      0\n",
      "10             US  47.4009 -121.4905   2/1/20      0\n",
      "11             US  47.4009 -121.4905   2/2/20      0\n",
      "12             US  47.4009 -121.4905   2/3/20      0\n",
      "13             US  47.4009 -121.4905   2/4/20      0\n",
      "14             US  47.4009 -121.4905   2/5/20      0\n",
      "15             US  47.4009 -121.4905   2/6/20      0\n",
      "16             US  47.4009 -121.4905   2/7/20      0\n",
      "17             US  47.4009 -121.4905   2/8/20      0\n",
      "18             US  47.4009 -121.4905   2/9/20      0\n",
      "19             US  47.4009 -121.4905  2/10/20      0\n",
      "20             US  47.4009 -121.4905  2/11/20      0\n",
      "21             US  47.4009 -121.4905  2/12/20      0\n",
      "22             US  47.4009 -121.4905  2/13/20      0\n",
      "23             US  47.4009 -121.4905  2/14/20      0\n",
      "24             US  47.4009 -121.4905  2/15/20      0\n",
      "25             US  47.4009 -121.4905  2/16/20      0\n",
      "26             US  47.4009 -121.4905  2/17/20      0\n",
      "27             US  47.4009 -121.4905  2/18/20      0\n",
      "28             US  47.4009 -121.4905  2/19/20      0\n",
      "29             US  47.4009 -121.4905  2/20/20      0\n",
      "30             US  47.4009 -121.4905  2/21/20      0\n",
      "31             US  47.4009 -121.4905  2/22/20      0\n",
      "32             US  47.4009 -121.4905  2/23/20      0\n",
      "33             US  47.4009 -121.4905  2/24/20      0\n",
      "34             US  47.4009 -121.4905  2/25/20      0\n",
      "35             US  47.4009 -121.4905  2/26/20      0\n",
      "36             US  47.4009 -121.4905  2/27/20      0\n",
      "37             US  47.4009 -121.4905  2/28/20      0\n",
      "38             US  47.4009 -121.4905  2/29/20      0\n",
      "39             US  47.4009 -121.4905   3/1/20      0\n",
      "40             US  47.4009 -121.4905   3/2/20      0\n",
      "41             US  47.4009 -121.4905   3/3/20      0\n",
      "42             US  47.4009 -121.4905   3/4/20      0\n",
      "43             US  47.4009 -121.4905   3/5/20      0\n",
      "44             US  47.4009 -121.4905   3/6/20      0\n",
      "45             US  47.4009 -121.4905   3/7/20      0\n",
      "46             US  47.4009 -121.4905   3/8/20      0\n",
      "47             US  47.4009 -121.4905   3/9/20      0\n",
      "48             US  47.4009 -121.4905  3/10/20    267\n",
      "49             US  47.4009 -121.4905  3/11/20    366\n"
     ]
    }
   ],
   "source": [
    "print(confirmed_latest)"
   ]
  },
  {
   "cell_type": "code",
   "execution_count": 114,
   "metadata": {},
   "outputs": [
    {
     "data": {
      "text/plain": [
       "<matplotlib.axes._subplots.AxesSubplot at 0x1a21889f10>"
      ]
     },
     "execution_count": 114,
     "metadata": {},
     "output_type": "execute_result"
    },
    {
     "data": {
      "image/png": "[encoded data removed]",
      "text/plain": [
       "<Figure size 720x720 with 1 Axes>"
      ]
     },
     "metadata": {
      "needs_background": "light"
     },
     "output_type": "display_data"
    }
   ],
   "source": [
    "fig, ax = plt.subplots(figsize=(10,10))\n",
    "ax.set_xticklabels(confirmed_latest['Day'],rotation = 90) \n",
    "sns.lineplot(x=confirmed_latest['Day'],y = confirmed_latest['Cases'],hue = confirmed_latest['Country/Region'])"
   ]
  },
  {
   "cell_type": "code",
   "execution_count": null,
   "metadata": {},
   "outputs": [],
   "source": []
  }
 ],
 "metadata": {
  "kernelspec": {
   "display_name": "Python 3",
   "language": "python",
   "name": "python3"
  },
  "language_info": {
   "codemirror_mode": {
    "name": "ipython",
    "version": 3
   },
   "file_extension": ".py",
   "mimetype": "text/x-python",
   "name": "python",
   "nbconvert_exporter": "python",
   "pygments_lexer": "ipython3",
   "version": "3.7.4"
  }
 },
 "nbformat": 4,
 "nbformat_minor": 2
}
